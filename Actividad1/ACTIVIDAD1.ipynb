{
  "nbformat": 4,
  "nbformat_minor": 0,
  "metadata": {
    "colab": {
      "provenance": [],
      "include_colab_link": true
    },
    "kernelspec": {
      "name": "python3",
      "display_name": "Python 3"
    },
    "language_info": {
      "name": "python"
    }
  },
  "cells": [
    {
      "cell_type": "markdown",
      "metadata": {
        "id": "view-in-github",
        "colab_type": "text"
      },
      "source": [
        "<a href=\"https://colab.research.google.com/github/alexandralima1602/-C8280-./blob/main/ACTIVIDAD1.ipynb\" target=\"_parent\"><img src=\"https://colab.research.google.com/assets/colab-badge.svg\" alt=\"Open In Colab\"/></a>"
      ]
    },
    {
      "cell_type": "code",
      "source": [
        "import pandas as pd\n",
        "# Leer el archivo de datos\n",
        "data = pd.read_csv(\"data.tsv\", delimiter=\"\\t\")\n",
        "\n",
        "\n"
      ],
      "metadata": {
        "id": "eXToN1plmKRB"
      },
      "execution_count": null,
      "outputs": []
    },
    {
      "cell_type": "code",
      "source": [
        "Datos = pd.read_table(\"data.tsv\")\n",
        "Datos"
      ],
      "metadata": {
        "colab": {
          "base_uri": "https://localhost:8080/",
          "height": 424
        },
        "id": "XvpdfQeD09d2",
        "outputId": "772cde5d-1dac-4368-ae1f-5f8a43c077b4"
      },
      "execution_count": null,
      "outputs": [
        {
          "output_type": "execute_result",
          "data": {
            "text/plain": [
              "      order_id  quantity                              item_name  \\\n",
              "0            1         1           Chips and Fresh Tomato Salsa   \n",
              "1            1         1                                   Izze   \n",
              "2            1         1                       Nantucket Nectar   \n",
              "3            1         1  Chips and Tomatillo-Green Chili Salsa   \n",
              "4            2         2                           Chicken Bowl   \n",
              "...        ...       ...                                    ...   \n",
              "4617      1833         1                          Steak Burrito   \n",
              "4618      1833         1                          Steak Burrito   \n",
              "4619      1834         1                     Chicken Salad Bowl   \n",
              "4620      1834         1                     Chicken Salad Bowl   \n",
              "4621      1834         1                     Chicken Salad Bowl   \n",
              "\n",
              "                                     choice_description item_price  \n",
              "0                                                   NaN     $2.39   \n",
              "1                                          [Clementine]     $3.39   \n",
              "2                                               [Apple]     $3.39   \n",
              "3                                                   NaN     $2.39   \n",
              "4     [Tomatillo-Red Chili Salsa (Hot), [Black Beans...    $16.98   \n",
              "...                                                 ...        ...  \n",
              "4617  [Fresh Tomato Salsa, [Rice, Black Beans, Sour ...    $11.75   \n",
              "4618  [Fresh Tomato Salsa, [Rice, Sour Cream, Cheese...    $11.75   \n",
              "4619  [Fresh Tomato Salsa, [Fajita Vegetables, Pinto...    $11.25   \n",
              "4620  [Fresh Tomato Salsa, [Fajita Vegetables, Lettu...     $8.75   \n",
              "4621  [Fresh Tomato Salsa, [Fajita Vegetables, Pinto...     $8.75   \n",
              "\n",
              "[4622 rows x 5 columns]"
            ],
            "text/html": [
              "\n",
              "  <div id=\"df-09c46055-488e-407e-b598-c6c8258d1745\">\n",
              "    <div class=\"colab-df-container\">\n",
              "      <div>\n",
              "<style scoped>\n",
              "    .dataframe tbody tr th:only-of-type {\n",
              "        vertical-align: middle;\n",
              "    }\n",
              "\n",
              "    .dataframe tbody tr th {\n",
              "        vertical-align: top;\n",
              "    }\n",
              "\n",
              "    .dataframe thead th {\n",
              "        text-align: right;\n",
              "    }\n",
              "</style>\n",
              "<table border=\"1\" class=\"dataframe\">\n",
              "  <thead>\n",
              "    <tr style=\"text-align: right;\">\n",
              "      <th></th>\n",
              "      <th>order_id</th>\n",
              "      <th>quantity</th>\n",
              "      <th>item_name</th>\n",
              "      <th>choice_description</th>\n",
              "      <th>item_price</th>\n",
              "    </tr>\n",
              "  </thead>\n",
              "  <tbody>\n",
              "    <tr>\n",
              "      <th>0</th>\n",
              "      <td>1</td>\n",
              "      <td>1</td>\n",
              "      <td>Chips and Fresh Tomato Salsa</td>\n",
              "      <td>NaN</td>\n",
              "      <td>$2.39</td>\n",
              "    </tr>\n",
              "    <tr>\n",
              "      <th>1</th>\n",
              "      <td>1</td>\n",
              "      <td>1</td>\n",
              "      <td>Izze</td>\n",
              "      <td>[Clementine]</td>\n",
              "      <td>$3.39</td>\n",
              "    </tr>\n",
              "    <tr>\n",
              "      <th>2</th>\n",
              "      <td>1</td>\n",
              "      <td>1</td>\n",
              "      <td>Nantucket Nectar</td>\n",
              "      <td>[Apple]</td>\n",
              "      <td>$3.39</td>\n",
              "    </tr>\n",
              "    <tr>\n",
              "      <th>3</th>\n",
              "      <td>1</td>\n",
              "      <td>1</td>\n",
              "      <td>Chips and Tomatillo-Green Chili Salsa</td>\n",
              "      <td>NaN</td>\n",
              "      <td>$2.39</td>\n",
              "    </tr>\n",
              "    <tr>\n",
              "      <th>4</th>\n",
              "      <td>2</td>\n",
              "      <td>2</td>\n",
              "      <td>Chicken Bowl</td>\n",
              "      <td>[Tomatillo-Red Chili Salsa (Hot), [Black Beans...</td>\n",
              "      <td>$16.98</td>\n",
              "    </tr>\n",
              "    <tr>\n",
              "      <th>...</th>\n",
              "      <td>...</td>\n",
              "      <td>...</td>\n",
              "      <td>...</td>\n",
              "      <td>...</td>\n",
              "      <td>...</td>\n",
              "    </tr>\n",
              "    <tr>\n",
              "      <th>4617</th>\n",
              "      <td>1833</td>\n",
              "      <td>1</td>\n",
              "      <td>Steak Burrito</td>\n",
              "      <td>[Fresh Tomato Salsa, [Rice, Black Beans, Sour ...</td>\n",
              "      <td>$11.75</td>\n",
              "    </tr>\n",
              "    <tr>\n",
              "      <th>4618</th>\n",
              "      <td>1833</td>\n",
              "      <td>1</td>\n",
              "      <td>Steak Burrito</td>\n",
              "      <td>[Fresh Tomato Salsa, [Rice, Sour Cream, Cheese...</td>\n",
              "      <td>$11.75</td>\n",
              "    </tr>\n",
              "    <tr>\n",
              "      <th>4619</th>\n",
              "      <td>1834</td>\n",
              "      <td>1</td>\n",
              "      <td>Chicken Salad Bowl</td>\n",
              "      <td>[Fresh Tomato Salsa, [Fajita Vegetables, Pinto...</td>\n",
              "      <td>$11.25</td>\n",
              "    </tr>\n",
              "    <tr>\n",
              "      <th>4620</th>\n",
              "      <td>1834</td>\n",
              "      <td>1</td>\n",
              "      <td>Chicken Salad Bowl</td>\n",
              "      <td>[Fresh Tomato Salsa, [Fajita Vegetables, Lettu...</td>\n",
              "      <td>$8.75</td>\n",
              "    </tr>\n",
              "    <tr>\n",
              "      <th>4621</th>\n",
              "      <td>1834</td>\n",
              "      <td>1</td>\n",
              "      <td>Chicken Salad Bowl</td>\n",
              "      <td>[Fresh Tomato Salsa, [Fajita Vegetables, Pinto...</td>\n",
              "      <td>$8.75</td>\n",
              "    </tr>\n",
              "  </tbody>\n",
              "</table>\n",
              "<p>4622 rows × 5 columns</p>\n",
              "</div>\n",
              "      <button class=\"colab-df-convert\" onclick=\"convertToInteractive('df-09c46055-488e-407e-b598-c6c8258d1745')\"\n",
              "              title=\"Convert this dataframe to an interactive table.\"\n",
              "              style=\"display:none;\">\n",
              "        \n",
              "  <svg xmlns=\"http://www.w3.org/2000/svg\" height=\"24px\"viewBox=\"0 0 24 24\"\n",
              "       width=\"24px\">\n",
              "    <path d=\"M0 0h24v24H0V0z\" fill=\"none\"/>\n",
              "    <path d=\"M18.56 5.44l.94 2.06.94-2.06 2.06-.94-2.06-.94-.94-2.06-.94 2.06-2.06.94zm-11 1L8.5 8.5l.94-2.06 2.06-.94-2.06-.94L8.5 2.5l-.94 2.06-2.06.94zm10 10l.94 2.06.94-2.06 2.06-.94-2.06-.94-.94-2.06-.94 2.06-2.06.94z\"/><path d=\"M17.41 7.96l-1.37-1.37c-.4-.4-.92-.59-1.43-.59-.52 0-1.04.2-1.43.59L10.3 9.45l-7.72 7.72c-.78.78-.78 2.05 0 2.83L4 21.41c.39.39.9.59 1.41.59.51 0 1.02-.2 1.41-.59l7.78-7.78 2.81-2.81c.8-.78.8-2.07 0-2.86zM5.41 20L4 18.59l7.72-7.72 1.47 1.35L5.41 20z\"/>\n",
              "  </svg>\n",
              "      </button>\n",
              "      \n",
              "  <style>\n",
              "    .colab-df-container {\n",
              "      display:flex;\n",
              "      flex-wrap:wrap;\n",
              "      gap: 12px;\n",
              "    }\n",
              "\n",
              "    .colab-df-convert {\n",
              "      background-color: #E8F0FE;\n",
              "      border: none;\n",
              "      border-radius: 50%;\n",
              "      cursor: pointer;\n",
              "      display: none;\n",
              "      fill: #1967D2;\n",
              "      height: 32px;\n",
              "      padding: 0 0 0 0;\n",
              "      width: 32px;\n",
              "    }\n",
              "\n",
              "    .colab-df-convert:hover {\n",
              "      background-color: #E2EBFA;\n",
              "      box-shadow: 0px 1px 2px rgba(60, 64, 67, 0.3), 0px 1px 3px 1px rgba(60, 64, 67, 0.15);\n",
              "      fill: #174EA6;\n",
              "    }\n",
              "\n",
              "    [theme=dark] .colab-df-convert {\n",
              "      background-color: #3B4455;\n",
              "      fill: #D2E3FC;\n",
              "    }\n",
              "\n",
              "    [theme=dark] .colab-df-convert:hover {\n",
              "      background-color: #434B5C;\n",
              "      box-shadow: 0px 1px 3px 1px rgba(0, 0, 0, 0.15);\n",
              "      filter: drop-shadow(0px 1px 2px rgba(0, 0, 0, 0.3));\n",
              "      fill: #FFFFFF;\n",
              "    }\n",
              "  </style>\n",
              "\n",
              "      <script>\n",
              "        const buttonEl =\n",
              "          document.querySelector('#df-09c46055-488e-407e-b598-c6c8258d1745 button.colab-df-convert');\n",
              "        buttonEl.style.display =\n",
              "          google.colab.kernel.accessAllowed ? 'block' : 'none';\n",
              "\n",
              "        async function convertToInteractive(key) {\n",
              "          const element = document.querySelector('#df-09c46055-488e-407e-b598-c6c8258d1745');\n",
              "          const dataTable =\n",
              "            await google.colab.kernel.invokeFunction('convertToInteractive',\n",
              "                                                     [key], {});\n",
              "          if (!dataTable) return;\n",
              "\n",
              "          const docLinkHtml = 'Like what you see? Visit the ' +\n",
              "            '<a target=\"_blank\" href=https://colab.research.google.com/notebooks/data_table.ipynb>data table notebook</a>'\n",
              "            + ' to learn more about interactive tables.';\n",
              "          element.innerHTML = '';\n",
              "          dataTable['output_type'] = 'display_data';\n",
              "          await google.colab.output.renderOutput(dataTable, element);\n",
              "          const docLink = document.createElement('div');\n",
              "          docLink.innerHTML = docLinkHtml;\n",
              "          element.appendChild(docLink);\n",
              "        }\n",
              "      </script>\n",
              "    </div>\n",
              "  </div>\n",
              "  "
            ]
          },
          "metadata": {},
          "execution_count": 31
        }
      ]
    },
    {
      "cell_type": "markdown",
      "source": [
        "**Mire en la parte superior e inferior de data.tsventregado en esta actividad. Piensa en cómo se estructuran los datos. ¿Qué crees que significa cada columna? ¿Qué crees que significa cada fila?**"
      ],
      "metadata": {
        "id": "D0YizoMQusNP"
      }
    },
    {
      "cell_type": "code",
      "source": [
        "# Mostrar la parte superior de los datos (las primeras filas)\n",
        "print(data.head())"
      ],
      "metadata": {
        "colab": {
          "base_uri": "https://localhost:8080/"
        },
        "id": "cWkR-AeMvnHB",
        "outputId": "9b06a3f2-dd4c-4e59-e98a-476473bc345d"
      },
      "execution_count": null,
      "outputs": [
        {
          "output_type": "stream",
          "name": "stdout",
          "text": [
            "   order_id  quantity                              item_name  \\\n",
            "0         1         1           Chips and Fresh Tomato Salsa   \n",
            "1         1         1                                   Izze   \n",
            "2         1         1                       Nantucket Nectar   \n",
            "3         1         1  Chips and Tomatillo-Green Chili Salsa   \n",
            "4         2         2                           Chicken Bowl   \n",
            "\n",
            "                                  choice_description item_price  \n",
            "0                                                NaN     $2.39   \n",
            "1                                       [Clementine]     $3.39   \n",
            "2                                            [Apple]     $3.39   \n",
            "3                                                NaN     $2.39   \n",
            "4  [Tomatillo-Red Chili Salsa (Hot), [Black Beans...    $16.98   \n"
          ]
        }
      ]
    },
    {
      "cell_type": "code",
      "source": [
        "#  parte inferior de los datos (las últimas filas)\n",
        "print(data.tail())"
      ],
      "metadata": {
        "colab": {
          "base_uri": "https://localhost:8080/"
        },
        "id": "MWGU38DyvgL2",
        "outputId": "4a836e43-3f94-4a52-8fb8-ce7297e515da"
      },
      "execution_count": null,
      "outputs": [
        {
          "output_type": "stream",
          "name": "stdout",
          "text": [
            "      order_id  quantity           item_name  \\\n",
            "4617      1833         1       Steak Burrito   \n",
            "4618      1833         1       Steak Burrito   \n",
            "4619      1834         1  Chicken Salad Bowl   \n",
            "4620      1834         1  Chicken Salad Bowl   \n",
            "4621      1834         1  Chicken Salad Bowl   \n",
            "\n",
            "                                     choice_description item_price  \n",
            "4617  [Fresh Tomato Salsa, [Rice, Black Beans, Sour ...    $11.75   \n",
            "4618  [Fresh Tomato Salsa, [Rice, Sour Cream, Cheese...    $11.75   \n",
            "4619  [Fresh Tomato Salsa, [Fajita Vegetables, Pinto...    $11.25   \n",
            "4620  [Fresh Tomato Salsa, [Fajita Vegetables, Lettu...     $8.75   \n",
            "4621  [Fresh Tomato Salsa, [Fajita Vegetables, Pinto...     $8.75   \n"
          ]
        }
      ]
    },
    {
      "cell_type": "markdown",
      "source": [
        "RSPTA: Las columnas significan los parametros de toda la data como ID,\tcantidad,\tnombre del árticulo,\telección_descripción y el precio del articulo, las filas significan los ejemplos de los parametros"
      ],
      "metadata": {
        "id": "vfH32Bwvw6cN"
      }
    },
    {
      "cell_type": "markdown",
      "source": [
        "**¿Cuántos pedidos parece haber?**"
      ],
      "metadata": {
        "id": "vpIfwWQ9ulfD"
      }
    },
    {
      "cell_type": "code",
      "source": [
        "pedidos = data[\"quantity\"].sum()\n",
        "print( \"pedidos:\", pedidos)\n"
      ],
      "metadata": {
        "colab": {
          "base_uri": "https://localhost:8080/"
        },
        "id": "yR7utlRMBi2Q",
        "outputId": "8b808b58-a510-4749-9bde-9574c4c5cc96"
      },
      "execution_count": null,
      "outputs": [
        {
          "output_type": "stream",
          "name": "stdout",
          "text": [
            "pedidos: 4972\n"
          ]
        }
      ]
    },
    {
      "cell_type": "markdown",
      "source": [
        "Viendo la suma de la cantidad de pedidos llegamos a la conclusiòn de que hay 4972 pedidos"
      ],
      "metadata": {
        "id": "Xvrl3lRYCI42"
      }
    },
    {
      "cell_type": "markdown",
      "source": [
        "**¿Qué burrito es más popular, steako chicken?**"
      ],
      "metadata": {
        "id": "d9YcJ-h3u_lX"
      }
    },
    {
      "cell_type": "code",
      "source": [
        "\n",
        "#Steak Burrito\n",
        "steak_burrito = data[\"item_name\"].value_counts()[\"Steak Burrito\"]\n",
        "print(\" Steak Burrito:\", steak_burrito)\n"
      ],
      "metadata": {
        "colab": {
          "base_uri": "https://localhost:8080/"
        },
        "id": "XnWKQnpf-tPD",
        "outputId": "905dbcde-55a0-4b82-fa1c-ff6d9bc052d2"
      },
      "execution_count": null,
      "outputs": [
        {
          "output_type": "stream",
          "name": "stdout",
          "text": [
            " Steak Burrito: 368\n"
          ]
        }
      ]
    },
    {
      "cell_type": "code",
      "source": [
        "#Chicken_burrito\n",
        "Chicken_burrito = data[\"item_name\"].value_counts()[\"Chicken Burrito\"]\n",
        "print(\" Chicken Burrito:\", Chicken_burrito)\n"
      ],
      "metadata": {
        "colab": {
          "base_uri": "https://localhost:8080/"
        },
        "id": "L3IHYEJz_0PC",
        "outputId": "b26c2cad-947a-476c-d980-6109ba5e4aa5"
      },
      "execution_count": null,
      "outputs": [
        {
          "output_type": "stream",
          "name": "stdout",
          "text": [
            " Chicken Burrito: 553\n"
          ]
        }
      ]
    },
    {
      "cell_type": "markdown",
      "source": [
        "El mas popular es Chiken Burrito por que tiene mayor cantidad de pedidos con 553"
      ],
      "metadata": {
        "id": "O0JvcL6RAs42"
      }
    },
    {
      "cell_type": "markdown",
      "source": [
        "**¿cuantas lineas hay en este archivo?**"
      ],
      "metadata": {
        "id": "HEUBMATUuVJX"
      }
    },
    {
      "cell_type": "code",
      "source": [
        "len(data)"
      ],
      "metadata": {
        "colab": {
          "base_uri": "https://localhost:8080/"
        },
        "id": "eK8mhUT9m3R_",
        "outputId": "3f95c0b0-5645-4430-8181-2c84bb7a544b"
      },
      "execution_count": null,
      "outputs": [
        {
          "output_type": "execute_result",
          "data": {
            "text/plain": [
              "4622"
            ]
          },
          "metadata": {},
          "execution_count": 28
        }
      ]
    },
    {
      "cell_type": "markdown",
      "source": [
        "Hay 4622 lineas"
      ],
      "metadata": {
        "id": "eeeJeZSbuKGN"
      }
    },
    {
      "cell_type": "markdown",
      "source": [
        "\n",
        "\n",
        "```\n",
        "Esto tiene formato de código\n",
        "```\n",
        "\n",
        "**¿Los burritos de pollo suelen tener frijoles negros o frijoles pintos?**"
      ],
      "metadata": {
        "id": "A8Gggt-kCmU5"
      }
    },
    {
      "cell_type": "code",
      "source": [
        "burritos_pollo = data[data[\"item_name\"] == \"Chicken Burrito\"]\n",
        "\n"
      ],
      "metadata": {
        "id": "AkTUY_AACkvH"
      },
      "execution_count": null,
      "outputs": []
    },
    {
      "cell_type": "code",
      "source": [
        "# Contar la cantidad de burritos de pollo con frijoles negros y frijoles pintos\n",
        "frijoles_negros = burritos_pollo[burritos_pollo[\"choice_description\"].str.contains(\"Black Beans\", case=False)].shape[0]\n",
        "frijoles_pintos = burritos_pollo[burritos_pollo[\"choice_description\"].str.contains(\"Pinto Beans\", case=False)].shape[0]"
      ],
      "metadata": {
        "id": "lOEH_wocHYKl"
      },
      "execution_count": null,
      "outputs": []
    },
    {
      "cell_type": "code",
      "source": [
        "print(\"Burritos de pollo con frijoles negros:\", frijoles_negros)\n",
        "print(\"Burritos de pollo con frijoles pintos:\", frijoles_pintos)\n"
      ],
      "metadata": {
        "colab": {
          "base_uri": "https://localhost:8080/"
        },
        "id": "wavkKFgyHZvl",
        "outputId": "81815c3f-aa81-49d4-c582-3a901f128955"
      },
      "execution_count": null,
      "outputs": [
        {
          "output_type": "stream",
          "name": "stdout",
          "text": [
            "Burritos de pollo con frijoles negros: 282\n",
            "Burritos de pollo con frijoles pintos: 105\n"
          ]
        }
      ]
    },
    {
      "cell_type": "markdown",
      "source": [
        "Los burritos de pollo suelen tener frijoles negros como frijoles pintos"
      ],
      "metadata": {
        "id": "dOJ7PcmtHuBO"
      }
    },
    {
      "cell_type": "markdown",
      "source": [
        "**Usa la línea de comandos para descubrir algo interesante sobre los datos dados.**"
      ],
      "metadata": {
        "id": "FoiI8pJKCu0j"
      }
    },
    {
      "cell_type": "code",
      "source": [
        "#Valor mínimo de los precios de articulos\n",
        "\n",
        "precio_minimo = data['item_price'].min()\n",
        "\n",
        "print(\"Valor mínimo \", precio_minimo)\n"
      ],
      "metadata": {
        "colab": {
          "base_uri": "https://localhost:8080/"
        },
        "id": "ikX5jBY1NUNu",
        "outputId": "5d381bae-0266-4704-b3fe-168c71d68e5a"
      },
      "execution_count": 94,
      "outputs": [
        {
          "output_type": "stream",
          "name": "stdout",
          "text": [
            "Valor mínimo  $1.09 \n"
          ]
        }
      ]
    }
  ]
}