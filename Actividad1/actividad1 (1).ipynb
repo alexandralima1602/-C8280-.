{
  "nbformat": 4,
  "nbformat_minor": 0,
  "metadata": {
    "colab": {
      "provenance": [],
      "authorship_tag": "ABX9TyOe7HRXRX6mLr9yNWY8xJny",
      "include_colab_link": true
    },
    "kernelspec": {
      "name": "python3",
      "display_name": "Python 3"
    },
    "language_info": {
      "name": "python"
    }
  },
  "cells": [
    {
      "cell_type": "markdown",
      "metadata": {
        "id": "view-in-github",
        "colab_type": "text"
      },
      "source": [
        "<a href=\"https://colab.research.google.com/github/alexandralima1602/-C8280-./blob/main/actividad1.ipynb\" target=\"_parent\"><img src=\"https://colab.research.google.com/assets/colab-badge.svg\" alt=\"Open In Colab\"/></a>"
      ]
    },
    {
      "cell_type": "markdown",
      "source": [
        "Descargamos el archivo llamado \"data.tsv"
      ],
      "metadata": {
        "id": "Sqm77V75vFH8"
      }
    },
    {
      "cell_type": "code",
      "execution_count": 18,
      "metadata": {
        "colab": {
          "base_uri": "https://localhost:8080/"
        },
        "id": "hGFLp46qooOG",
        "outputId": "8c0d495a-3a01-49cb-b5cb-c0bba6835594"
      },
      "outputs": [
        {
          "output_type": "stream",
          "name": "stdout",
          "text": [
            "/content/data.tsv: Scheme missing.\n"
          ]
        }
      ],
      "source": [
        "!wget /content/data.tsv"
      ]
    },
    {
      "cell_type": "markdown",
      "source": [
        "**Mire en la parte superior e inferior de data.tsv entregado en esta actividad. Piensa en cómo se estructuran los datos. ¿Qué crees que significa cada columna? ¿Qué crees que significa cada fila?**"
      ],
      "metadata": {
        "id": "j0GSQS3Ho7oy"
      }
    },
    {
      "cell_type": "markdown",
      "source": [
        "Mostrar la parte superior de los datos (las primeras filas)"
      ],
      "metadata": {
        "id": "dRk7M3o2qZyW"
      }
    },
    {
      "cell_type": "code",
      "source": [
        "!head data.tsv"
      ],
      "metadata": {
        "colab": {
          "base_uri": "https://localhost:8080/"
        },
        "id": "EBaCdvEso9lx",
        "outputId": "4e34cc4d-5781-4df6-fbab-f1e82edbeb6a"
      },
      "execution_count": 2,
      "outputs": [
        {
          "output_type": "stream",
          "name": "stdout",
          "text": [
            "order_id\tquantity\titem_name\tchoice_description\titem_price\n",
            "1\t1\tChips and Fresh Tomato Salsa\tNULL\t$2.39 \n",
            "1\t1\tIzze\t[Clementine]\t$3.39 \n",
            "1\t1\tNantucket Nectar\t[Apple]\t$3.39 \n",
            "1\t1\tChips and Tomatillo-Green Chili Salsa\tNULL\t$2.39 \n",
            "2\t2\tChicken Bowl\t[Tomatillo-Red Chili Salsa (Hot), [Black Beans, Rice, Cheese, Sour Cream]]\t$16.98 \n",
            "3\t1\tChicken Bowl\t[Fresh Tomato Salsa (Mild), [Rice, Cheese, Sour Cream, Guacamole, Lettuce]]\t$10.98 \n",
            "3\t1\tSide of Chips\tNULL\t$1.69 \n",
            "4\t1\tSteak Burrito\t[Tomatillo Red Chili Salsa, [Fajita Vegetables, Black Beans, Pinto Beans, Cheese, Sour Cream, Guacamole, Lettuce]]\t$11.75 \n",
            "4\t1\tSteak Soft Tacos\t[Tomatillo Green Chili Salsa, [Pinto Beans, Cheese, Sour Cream, Lettuce]]\t$9.25 \n"
          ]
        }
      ]
    },
    {
      "cell_type": "markdown",
      "source": [
        " parte inferior de los datos (las últimas filas)"
      ],
      "metadata": {
        "id": "ZfCjNoSsqXoy"
      }
    },
    {
      "cell_type": "code",
      "source": [
        "!tail data.tsv"
      ],
      "metadata": {
        "colab": {
          "base_uri": "https://localhost:8080/"
        },
        "id": "fknzIfL-pBdt",
        "outputId": "1af085d9-4863-448b-b9c8-b4e675b6b3f2"
      },
      "execution_count": 3,
      "outputs": [
        {
          "output_type": "stream",
          "name": "stdout",
          "text": [
            "1831\t1\tChips\tNULL\t$2.15 \n",
            "1831\t1\tBottled Water\tNULL\t$1.50 \n",
            "1832\t1\tChicken Soft Tacos\t[Fresh Tomato Salsa, [Rice, Cheese, Sour Cream]]\t$8.75 \n",
            "1832\t1\tChips and Guacamole\tNULL\t$4.45 \n",
            "1833\t1\tSteak Burrito\t[Fresh Tomato Salsa, [Rice, Black Beans, Sour Cream, Cheese, Lettuce, Guacamole]]\t$11.75 \n",
            "1833\t1\tSteak Burrito\t[Fresh Tomato Salsa, [Rice, Sour Cream, Cheese, Lettuce, Guacamole]]\t$11.75 \n",
            "1834\t1\tChicken Salad Bowl\t[Fresh Tomato Salsa, [Fajita Vegetables, Pinto Beans, Guacamole, Lettuce]]\t$11.25 \n",
            "1834\t1\tChicken Salad Bowl\t[Fresh Tomato Salsa, [Fajita Vegetables, Lettuce]]\t$8.75 \n",
            "1834\t1\tChicken Salad Bowl\t[Fresh Tomato Salsa, [Fajita Vegetables, Pinto Beans, Lettuce]]\t$8.75 \n",
            "\n"
          ]
        }
      ]
    },
    {
      "cell_type": "markdown",
      "source": [
        "RSPTA: Las columnas significan los parametros de toda la data como ID, cantidad, nombre del árticulo, elección_descripción y el precio del articulo, las filas significan los ejemplos de los parametros"
      ],
      "metadata": {
        "id": "BAOr9qwXpNj5"
      }
    },
    {
      "cell_type": "markdown",
      "source": [
        "**¿Cuántos pedidos parece haber?**"
      ],
      "metadata": {
        "id": "f-yxVFLNpUAO"
      }
    },
    {
      "cell_type": "code",
      "source": [
        "!awk -F'\\t' '{ sum += $2 } END { print sum }' data.tsv\n"
      ],
      "metadata": {
        "colab": {
          "base_uri": "https://localhost:8080/"
        },
        "id": "7UahXH21pRI8",
        "outputId": "aa5cfe3e-32f5-466f-eafc-4b0440c91aba"
      },
      "execution_count": 11,
      "outputs": [
        {
          "output_type": "stream",
          "name": "stdout",
          "text": [
            "4972\n"
          ]
        }
      ]
    },
    {
      "cell_type": "markdown",
      "source": [
        "Viendo la suma de la cantidad de pedidos llegamos a la conclusiòn de que hay 4972 pedidos"
      ],
      "metadata": {
        "id": "7_r4pYwusl2b"
      }
    },
    {
      "cell_type": "markdown",
      "source": [
        "**¿cuantas lineas hay en este archivo?**"
      ],
      "metadata": {
        "id": "CNrcV0TMpbHH"
      }
    },
    {
      "cell_type": "code",
      "source": [
        "!wc -l data.tsv"
      ],
      "metadata": {
        "colab": {
          "base_uri": "https://localhost:8080/"
        },
        "id": "HIanxArqpisX",
        "outputId": "1ce596a8-e14c-4b21-c5e8-59dad55e38b6"
      },
      "execution_count": 12,
      "outputs": [
        {
          "output_type": "stream",
          "name": "stdout",
          "text": [
            "4624 data.tsv\n"
          ]
        }
      ]
    },
    {
      "cell_type": "markdown",
      "source": [
        "**¿Qué burrito es más popular, steako chicken?**"
      ],
      "metadata": {
        "id": "HwMEbDYupYnt"
      }
    },
    {
      "cell_type": "code",
      "source": [
        "!grep -E \"Steak Burrito\" data.tsv | wc -l\n"
      ],
      "metadata": {
        "colab": {
          "base_uri": "https://localhost:8080/"
        },
        "id": "jyPkCTOuphhP",
        "outputId": "1e199fad-46cf-4ba0-b982-f8dab5094564"
      },
      "execution_count": 15,
      "outputs": [
        {
          "output_type": "stream",
          "name": "stdout",
          "text": [
            "368\n"
          ]
        }
      ]
    },
    {
      "cell_type": "code",
      "source": [
        "!grep -E \"Chicken Burrito\" data.tsv | wc -l\n"
      ],
      "metadata": {
        "colab": {
          "base_uri": "https://localhost:8080/"
        },
        "id": "8XZEjIwFuNm8",
        "outputId": "26fa4844-6723-4afd-ef70-b5953c8e4b62"
      },
      "execution_count": 16,
      "outputs": [
        {
          "output_type": "stream",
          "name": "stdout",
          "text": [
            "553\n"
          ]
        }
      ]
    },
    {
      "cell_type": "markdown",
      "source": [
        "El mas popular es Chiken Burrito por que tiene mayor cantidad de pedidos con 553"
      ],
      "metadata": {
        "id": "KnIBq__6unGP"
      }
    },
    {
      "cell_type": "markdown",
      "source": [
        "**¿Los burritos de pollo suelen tener frijoles negros o frijoles pintos?**"
      ],
      "metadata": {
        "id": "TIpO8byJptVK"
      }
    },
    {
      "cell_type": "markdown",
      "source": [
        "lo hice de 2 formas"
      ],
      "metadata": {
        "id": "gcUCYEjqw6bw"
      }
    },
    {
      "cell_type": "markdown",
      "source": [
        "**forma 1**"
      ],
      "metadata": {
        "id": "xAspWalDxAAS"
      }
    },
    {
      "cell_type": "code",
      "source": [
        "!awk -F'\\t' '/Chicken Burrito/ && (/Black Beans/ ) { count++ } END { print count }' data.tsv\n"
      ],
      "metadata": {
        "colab": {
          "base_uri": "https://localhost:8080/"
        },
        "id": "L7iO7SQEuKK_",
        "outputId": "a3d989bc-8035-48be-e481-b7cdb7c821f6"
      },
      "execution_count": 21,
      "outputs": [
        {
          "output_type": "stream",
          "name": "stdout",
          "text": [
            "282\n"
          ]
        }
      ]
    },
    {
      "cell_type": "code",
      "source": [
        "!awk -F'\\t' '/Chicken Burrito/ && (/Pinto Beans/ ) { count++ } END { print count }' data.tsv"
      ],
      "metadata": {
        "colab": {
          "base_uri": "https://localhost:8080/"
        },
        "id": "EkfZ3tNowX26",
        "outputId": "96fe8fcd-26b7-4305-eee4-416065c580cb"
      },
      "execution_count": 22,
      "outputs": [
        {
          "output_type": "stream",
          "name": "stdout",
          "text": [
            "105\n"
          ]
        }
      ]
    },
    {
      "cell_type": "markdown",
      "source": [
        "**forma 2**"
      ],
      "metadata": {
        "id": "iSK3v0oqxGPu"
      }
    },
    {
      "cell_type": "code",
      "source": [
        "!echo \"Black Beans:\"\n",
        "!grep \"Chicken Burrito\" data.tsv | grep \"Black Beans\" | wc -l\n",
        "!echo \"Pinto Beans:\"\n",
        "!grep \"Chicken Burrito\" data.tsv | grep \"Pinto Beans\" | wc -l"
      ],
      "metadata": {
        "colab": {
          "base_uri": "https://localhost:8080/"
        },
        "id": "XtCxcf9vwy7g",
        "outputId": "63ed8f7d-89fc-4e69-c3d6-8efbbf46989f"
      },
      "execution_count": 24,
      "outputs": [
        {
          "output_type": "stream",
          "name": "stdout",
          "text": [
            "Black Beans:\n",
            "282\n",
            "Pinto Beans:\n",
            "105\n"
          ]
        }
      ]
    },
    {
      "cell_type": "markdown",
      "source": [
        "Los burritos de pollo suelen tener frijoles negros como frijoles pintos"
      ],
      "metadata": {
        "id": "1xKmxSYkxP-1"
      }
    },
    {
      "cell_type": "markdown",
      "source": [
        "**Usa la línea de comandos para descubrir algo interesante sobre los datos dados.**"
      ],
      "metadata": {
        "id": "JSWuKt06pv5P"
      }
    },
    {
      "cell_type": "markdown",
      "source": [
        "Para encontrar el ítem más pedido:"
      ],
      "metadata": {
        "id": "MCsuL1CX0HAk"
      }
    },
    {
      "cell_type": "code",
      "source": [
        "!cut -f3 data.tsv | sort | uniq -c | sort -nr | head -n 1"
      ],
      "metadata": {
        "colab": {
          "base_uri": "https://localhost:8080/"
        },
        "id": "tSrgZsYN0H5h",
        "outputId": "f9f37cc8-6252-4d28-ec4b-cd17e931feee"
      },
      "execution_count": 31,
      "outputs": [
        {
          "output_type": "stream",
          "name": "stdout",
          "text": [
            "    726 Chicken Bowl\n"
          ]
        }
      ]
    }
  ]
}